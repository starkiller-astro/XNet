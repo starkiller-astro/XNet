{
 "cells": [
  {
   "cell_type": "code",
   "execution_count": null,
   "id": "f597abc7-c60b-4a39-9544-ce7b815f6a5d",
   "metadata": {
    "tags": []
   },
   "outputs": [],
   "source": [
    "'''\n",
    "This Python script modifies a CSV file by replacing zero values in specific columns with a small non-zero value (10^-30), enhancing data integrity for subsequent processing. \n",
    "The updated data is then saved to a new CSV file, making it more suitable for analysis or machine learning applications.\n",
    "'''\n",
    "import csv\n",
    "\n",
    "# List of elements to replace zeros with 10^-30\n",
    "elements_to_replace = ['he4', 'c12', 'o16', 'ne20', 'mg24', 'si28', 's32', 'ar36', 'ca40', 'ti44', 'cr48', 'fe52', 'ni56', 'zn60']\n",
    "\n",
    "# Function to replace zeros with 10^-30 for specified elements\n",
    "def replace_zeros(row):\n",
    "    for i, value in enumerate(row):\n",
    "        if i >= 0 and elements_to_replace[i - 0].lower() in elements_to_replace:\n",
    "            row[i] = '1e-30' if str(value).strip() == '0.0' else value\n",
    "    return row\n",
    "\n",
    "# Read the CSV file\n",
    "input_file_path = '/Users/alancangas/Xnet/test/x_training_output.csv'\n",
    "output_file_path = '/Users/alancangas/Xnet/test/x_log_training_output.csv'\n",
    "\n",
    "with open(input_file_path, 'r', newline='') as infile, open(output_file_path, 'w', newline='') as outfile:\n",
    "    csv_reader = csv.reader(infile)\n",
    "    csv_writer = csv.writer(outfile)\n",
    "    \n",
    "    header = next(csv_reader)\n",
    "    csv_writer.writerow(header)\n",
    "\n",
    "    for row in csv_reader:\n",
    "        updated_row = replace_zeros(row)\n",
    "        csv_writer.writerow(updated_row)\n",
    "\n",
    "print(f\"Zeros replaced with 10^-30 for specified elements. Output saved to {output_file_path}.\")\n"
   ]
  },
  {
   "cell_type": "code",
   "execution_count": null,
   "id": "c5d86327-ade0-45b2-81b4-f0964330e5e7",
   "metadata": {},
   "outputs": [],
   "source": []
  }
 ],
 "metadata": {
  "kernelspec": {
   "display_name": "Python 3 (ipykernel)",
   "language": "python",
   "name": "python3"
  },
  "language_info": {
   "codemirror_mode": {
    "name": "ipython",
    "version": 3
   },
   "file_extension": ".py",
   "mimetype": "text/x-python",
   "name": "python",
   "nbconvert_exporter": "python",
   "pygments_lexer": "ipython3",
   "version": "3.11.5"
  }
 },
 "nbformat": 4,
 "nbformat_minor": 5
}
